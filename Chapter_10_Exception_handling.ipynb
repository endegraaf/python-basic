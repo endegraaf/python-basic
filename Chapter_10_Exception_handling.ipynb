{
 "cells": [
  {
   "cell_type": "markdown",
   "metadata": {
    "pycharm": {
     "name": "#%% md\n"
    }
   },
   "source": [
    "# Exception handling\n",
    "\n",
    "`try`  \n",
    "`except`  \n",
    "`finally`  "
   ]
  },
  {
   "cell_type": "markdown",
   "metadata": {},
   "source": [
    "Mensen maken fouten en programmas worden door mensen geschreven.  \n",
    "\n",
    "Fouten in een programma kan je opvangen met `try` `except`.  \n",
    "In de `try` statement zet je een stuk code dat fout kan gaan.  \n",
    "Het blokje code onder de `except` statement vangt de fout op.  \n",
    "\n",
    "Normaal stopt het programma bij een error, maar als de error is opgevangen gaat het door.  "
   ]
  },
  {
   "cell_type": "markdown",
   "metadata": {},
   "source": [
    "## [try except](https://docs.python.org/3/reference/compound_stmts.html#the-try-statement)"
   ]
  },
  {
   "cell_type": "code",
   "execution_count": 1,
   "metadata": {
    "collapsed": false,
    "jupyter": {
     "outputs_hidden": false
    },
    "pycharm": {
     "name": "#%%\n"
    }
   },
   "outputs": [
    {
     "name": "stdout",
     "output_type": "stream",
     "text": [
      "error: er is iets fout gegaan\n",
      "na de try-except\n"
     ]
    }
   ],
   "source": [
    "try:\n",
    "    # `raise` express een AssertionError\n",
    "    fout_waarde = 10 < 0\n",
    "    assert fout_waarde, 'er is iets fout gegaan'\n",
    "except Exception as err_msg:\n",
    "    print(f'error: {err_msg}')\n",
    "\n",
    "print('na de try-except')"
   ]
  },
  {
   "cell_type": "markdown",
   "metadata": {},
   "source": [
    "### Multiple excepts"
   ]
  },
  {
   "cell_type": "code",
   "execution_count": 2,
   "metadata": {
    "collapsed": false,
    "jupyter": {
     "outputs_hidden": false
    },
    "pycharm": {
     "name": "#%%\n"
    }
   },
   "outputs": [
    {
     "name": "stdout",
     "output_type": "stream",
     "text": [
      "10 gedeeld door 3 is: 3.3333333333333335\n",
      "10 gedeeld door 2 is: 5.0\n",
      "10 gedeeld door 1 is: 10.0\n",
      "10 kan niet gedeld worden door 0\n"
     ]
    }
   ],
   "source": [
    "for num in (3, 2, 1, 0):\n",
    "    try:\n",
    "        # een \n",
    "        uitkomst = 10 / num\n",
    "        print(f'10 gedeeld door {num} is: {uitkomst}')\n",
    "    except ZeroDivisionError:\n",
    "        print(f'10 kan niet gedeld worden door 0')\n",
    "    except Exception as err_msg:\n",
    "        print(f'log: Er is een onbekende fout opgetreden: {err_msg}')\n",
    "        print('stop het programma')\n",
    "        exit(1)"
   ]
  },
  {
   "cell_type": "markdown",
   "metadata": {},
   "source": [
    "## finally"
   ]
  },
  {
   "cell_type": "code",
   "execution_count": 3,
   "metadata": {
    "collapsed": false,
    "jupyter": {
     "outputs_hidden": false
    },
    "pycharm": {
     "name": "#%%\n"
    }
   },
   "outputs": [
    {
     "name": "stdout",
     "output_type": "stream",
     "text": [
      "open een nieuw bestand\n",
      "try: schrijf naar het nieuwe bestand\n",
      "except: write() argument must be str, not bytes\n",
      "finally: sluit altijd het bestand\n"
     ]
    }
   ],
   "source": [
    "print('open een nieuw bestand')\n",
    "# mode van open is 'w' en kan dus alleen str schrijven.\n",
    "# 'wb' is de mode die bytes kan schrijven. \n",
    "new_file = open('nieuw_bestand.txt', 'w')\n",
    "\n",
    "try:\n",
    "    print('try: schrijf naar het nieuwe bestand')\n",
    "    new_file.write(b'dit is geen str, dit zijn bytes')\n",
    "except TypeError as err:\n",
    "    print(f'except: {err}')\n",
    "finally:\n",
    "    print('finally: sluit altijd het bestand')\n",
    "    new_file.close()\n"
   ]
  },
  {
   "cell_type": "markdown",
   "metadata": {
    "pycharm": {
     "name": "#%% md\n"
    }
   },
   "source": [
    "### Oefeningen Exception handling\n",
    "\n",
    "Maak een try-except met een `assert` statement die een error geeft.  \n",
    "Laat de `assert` falen en vang de error op.  \n",
    "print deze error uit in het `finally` blok van de try-except.   \n",
    "\n"
   ]
  },
  {
   "cell_type": "code",
   "execution_count": null,
   "metadata": {},
   "outputs": [],
   "source": []
  }
 ],
 "metadata": {
  "kernelspec": {
   "display_name": "Python 3 (ipykernel)",
   "language": "python",
   "name": "python3"
  },
  "language_info": {
   "codemirror_mode": {
    "name": "ipython",
    "version": 3
   },
   "file_extension": ".py",
   "mimetype": "text/x-python",
   "name": "python",
   "nbconvert_exporter": "python",
   "pygments_lexer": "ipython3",
   "version": "3.9.6"
  }
 },
 "nbformat": 4,
 "nbformat_minor": 4
}
