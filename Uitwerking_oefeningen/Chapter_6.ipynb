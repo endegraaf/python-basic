{
 "cells": [
  {
   "cell_type": "markdown",
   "id": "64dac022-a5ad-4fbf-b877-a43310bfdf40",
   "metadata": {},
   "source": [
    "# Uitwerking oefeningen Chapter 6 Operators"
   ]
  },
  {
   "cell_type": "markdown",
   "id": "692ecf3b-54c8-4fc4-9897-458af83121cc",
   "metadata": {},
   "source": [
    "### Chained operators opdracht\n",
    "Pas de variabelen  `x`, `y` en `z`  zo aan dat er geen `AssertionError` meer voorkomt."
   ]
  },
  {
   "cell_type": "code",
   "execution_count": 1,
   "id": "5ad2926f-78f8-48da-8c56-708fdc62a181",
   "metadata": {},
   "outputs": [],
   "source": [
    "x = 5  \n",
    "y = 0  \n",
    "z = 500  \n",
    "\n",
    "# hieronder een ketting aan comparisons \n",
    "boolean_value = bool(x >= 0 < y < 100 < z) \n",
    "assert boolean_value, f\"{x} >= 0 < {y} < 100 < {z}\" "
   ]
  },
  {
   "cell_type": "markdown",
   "id": "bc02f0d4-7613-464f-a71d-1ea78c68ba36",
   "metadata": {},
   "source": [
    "### Membership operator opdracht\n",
    "Pas de `assert` hieronder aan zodat deze geen `AssertionError` meer geeft."
   ]
  },
  {
   "cell_type": "code",
   "execution_count": 3,
   "id": "c583f0a5-2e86-466a-b4b3-543c8ee4db65",
   "metadata": {},
   "outputs": [],
   "source": [
    "een_dict = {\"key\": \"value\", \"andere_key\": \"andere_value\"} \n",
    "err_msg = \"dit gaat fout omdat 'in' de keys in de dict bekijkt. gebruik een_dict.values()\"  \n",
    "\n",
    "# zorg dat deze assert statement geen error geeft\n",
    "assert \"value\" in een_dict.values(), err_msg  "
   ]
  },
  {
   "cell_type": "markdown",
   "id": "8db4bb4c-3c51-4bcf-bb26-60b53dee1cd9",
   "metadata": {},
   "source": [
    "onderzoek waarom stuk code hieronder een False uit-print"
   ]
  },
  {
   "cell_type": "code",
   "execution_count": 8,
   "id": "dde6bab4-b874-4fea-9daf-a10dcba3cd2e",
   "metadata": {},
   "outputs": [
    {
     "name": "stdout",
     "output_type": "stream",
     "text": [
      "waarom_false = False\n"
     ]
    }
   ],
   "source": [
    "waarom_false = bool([1, 2, 3] in [0, 1, 2, 3, 4]) \n",
    "\n",
    "print(f\"waarom_false = {waarom_false}\")"
   ]
  },
  {
   "cell_type": "code",
   "execution_count": 9,
   "id": "d63e506c-6b91-4671-9d37-af781e6e988d",
   "metadata": {},
   "outputs": [
    {
     "name": "stdout",
     "output_type": "stream",
     "text": [
      "nu_is_true = True\n"
     ]
    }
   ],
   "source": [
    "# omdat de lijst: [1, 2, 3] niet voorkomt in de andere lijst: [0, 1, 2, 3, 4] \n",
    "# de lijst met de lijst 'in' zich: [0, 1, 2, 3, 4, [1, 2, 3]] heeft wel de lijst [1, 2, 3] \n",
    "\n",
    "nu_is_true = bool([1, 2, 3] in [0, 1, 2, 3, 4, [1, 2, 3]]) \n",
    "print(f\"nu_is_true = {nu_is_true}\") "
   ]
  },
  {
   "cell_type": "markdown",
   "id": "275c454e-d091-4cdb-a0be-68f140330f03",
   "metadata": {},
   "source": [
    "### Identity operator opdracht\n",
    "Gebruik het `is` statement om te testen welke van de volgende lijsten naar elkaar verwijzen "
   ]
  },
  {
   "cell_type": "code",
   "execution_count": 5,
   "id": "f20a4d0b-e8b2-4566-9592-2319d529fb70",
   "metadata": {},
   "outputs": [],
   "source": [
    "lijst_1 = ['a', 'b', 'c'] \n",
    "lijst_2 = lijst_1 \n",
    "lijst_3 = lijst_1.copy()  "
   ]
  },
  {
   "cell_type": "code",
   "execution_count": 6,
   "id": "57b18e33-b5a3-4869-9460-5bda114119fe",
   "metadata": {},
   "outputs": [
    {
     "data": {
      "text/plain": [
       "True"
      ]
     },
     "execution_count": 6,
     "metadata": {},
     "output_type": "execute_result"
    }
   ],
   "source": [
    "lijst_1 is lijst_2"
   ]
  },
  {
   "cell_type": "code",
   "execution_count": 7,
   "id": "760cfdba-9549-471c-a3dc-3426ee5dc50b",
   "metadata": {},
   "outputs": [
    {
     "data": {
      "text/plain": [
       "False"
      ]
     },
     "execution_count": 7,
     "metadata": {},
     "output_type": "execute_result"
    }
   ],
   "source": [
    "lijst_1 is lijst_3"
   ]
  },
  {
   "cell_type": "markdown",
   "id": "2ed0a0a7-1acb-4844-901c-152ed7203d02",
   "metadata": {},
   "source": [
    "Een uitleg waarom de lijsten naar elkaar verwijzen: [uitleg](https://cscircles.cemc.uwaterloo.ca/visualize#code=%23+creeer+wat+lijsten%0Alijst_1+%3D+%5B'a',+'b',+'c'%5D%0Alijst_2+%3D+lijst_1++%23+verwijs+naar+lijst_1%0Alijst_3+%3D+lijst_1.copy()++%23+kopieer+lijst_1%0A%0A%23+print+het+ID-nummer+van+de+lijsten+uit%0Aprint(f%221%3A+%7Bid(lijst_1)%7D,+2%3A+%7Bid(lijst_2)%7D,+3%3A+%7Bid(lijst_3)%7D%22)%0A%0A%23+check+of+lijst_1+verwijst+naar+lijst_2%0Aprint(f%22lijst_1+is+lijst_2%3A+%7Blijst_1+is+lijst_2%7D%22)%0A%0A%23+check+of+lijst_1+verwijst+naar+lijst_3%0Aprint(f%22lijst_1+is+lijst_3%3A+%7Blijst_1+is+lijst_3%7D%22)&mode=display&raw_input=&curInstr=0)"
   ]
  },
  {
   "cell_type": "markdown",
   "id": "b894f061-2ef5-4708-9e0a-31b3b1b17398",
   "metadata": {},
   "source": [
    "### Extra Chained operators opdrachten"
   ]
  },
  {
   "cell_type": "code",
   "execution_count": 26,
   "id": "a53fde4c-8db6-4cfb-8aae-54c25b953ed0",
   "metadata": {},
   "outputs": [
    {
     "name": "stdout",
     "output_type": "stream",
     "text": [
      "0 >= -1 < 3 > 2\n"
     ]
    }
   ],
   "source": [
    "# opdracht comparison chain 1 \n",
    "\n",
    "a = 0 \n",
    "b = 1 \n",
    "c = 3 \n",
    "d = 2 \n",
    "print(f\"{a} >= {a - b} < {c} > {d}\") \n",
    "\n",
    "assert a >= a - b < c > d, f\"{a} >= {a - b} < {c} > {d}\" "
   ]
  },
  {
   "cell_type": "code",
   "execution_count": 27,
   "id": "1f04f858-39a2-4368-883e-73349c1b9a53",
   "metadata": {},
   "outputs": [
    {
     "name": "stdout",
     "output_type": "stream",
     "text": [
      "2 >= 2 > 1 < 3 > 1 < 2 <= 2\n"
     ]
    }
   ],
   "source": [
    "# opdracht comparison chain 2 \n",
    "\n",
    "e = 2 \n",
    "f = 2 \n",
    "g = 1 \n",
    "h = 3 \n",
    "print(f\"{e} >= {f} > {g} < {h} > {g} < {f} <= {e}\") \n",
    "\n",
    "assert e >= f > g < h > g < f <= e, f\"{e} >= {f} > {g} < {h} > {g} < {f} <= {e}\" "
   ]
  },
  {
   "cell_type": "code",
   "execution_count": 28,
   "id": "b4d6bbba-a932-4e0a-94db-36c34f277b01",
   "metadata": {},
   "outputs": [
    {
     "name": "stdout",
     "output_type": "stream",
     "text": [
      "100 < 200 == 200 <= 200 < 201 > 100\n"
     ]
    }
   ],
   "source": [
    "# opdracht comparison chain 3 \n",
    "\n",
    "aa = 201 \n",
    "bb = 200 \n",
    "cc = 200 \n",
    "print(f\"100 < {bb} == 200 <= {cc} < {aa} > 100\") \n",
    "\n",
    "assert 100 < bb == 200 <= cc < aa > 100, f\"100 < {bb} == 200 <= {cc} < {aa} > 100\" "
   ]
  },
  {
   "cell_type": "code",
   "execution_count": 29,
   "id": "621eaa91-c031-4eac-b1e8-25ecaa97a6a4",
   "metadata": {},
   "outputs": [
    {
     "name": "stdout",
     "output_type": "stream",
     "text": [
      "(2 != 1 > 0) != (0 < 2 < 0)\n",
      "True != False\n"
     ]
    }
   ],
   "source": [
    "# opdracht comparison chain voor gevorderde 1 \n",
    "\n",
    "h = 0 \n",
    "i = 1 \n",
    "j = 2 \n",
    "k = 0 \n",
    "print(f\"({j} != {i} > {k}) != ({k} < {j} < {h})\") \n",
    "print(f\"{(j != i > k)} != {(k < j < h)}\") \n",
    "\n",
    "assert (j != i > k) != (k < j < h), f\"({j} != {i} > {k}) != ({k} < {j} < {h})\" "
   ]
  },
  {
   "cell_type": "code",
   "execution_count": 30,
   "id": "3158c6e9-782a-4af7-a51c-0c16257e9453",
   "metadata": {},
   "outputs": [
    {
     "name": "stdout",
     "output_type": "stream",
     "text": [
      "int(3 >= 1 > 0) < 2 == 2 < 3\n",
      "1 < 2 == 2 < 3\n"
     ]
    }
   ],
   "source": [
    "# opdracht comparison chain voor gevorderde 2 \n",
    "\n",
    "u = 3 \n",
    "i = 1 \n",
    "o = 0 \n",
    "p = 2 \n",
    "print(f\"int({u} >= {i} > {o}) < {p} == {p} < {u}\") \n",
    "print(f\"{int(u >= i > o)} < {p} == {p} < {u}\") \n",
    "\n",
    "assert int(u >= i > o) < p == p < u, f\"int({u} >= {i} > {o}) < {p} == {p} < {u}\" "
   ]
  }
 ],
 "metadata": {
  "kernelspec": {
   "display_name": "Python 3 (ipykernel)",
   "language": "python",
   "name": "python3"
  },
  "language_info": {
   "codemirror_mode": {
    "name": "ipython",
    "version": 3
   },
   "file_extension": ".py",
   "mimetype": "text/x-python",
   "name": "python",
   "nbconvert_exporter": "python",
   "pygments_lexer": "ipython3",
   "version": "3.9.5"
  }
 },
 "nbformat": 4,
 "nbformat_minor": 5
}
