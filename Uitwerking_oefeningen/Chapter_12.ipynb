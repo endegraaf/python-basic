{
 "cells": [
  {
   "cell_type": "markdown",
   "id": "f8cd5703-d16e-40e7-a653-8dbbbff51ac7",
   "metadata": {},
   "source": [
    "# Uitwerking oefeningen Chapter 12 Classes and functions"
   ]
  },
  {
   "cell_type": "markdown",
   "id": "1ac8f2fe-f561-40c4-a678-7548476c3fa1",
   "metadata": {},
   "source": [
    "* Maak een `class` genaamd Hond. \n",
    "* Geef de `class` een attribute dat aangeeft hoeveel poten een hond heeft. \n",
    "* Zorg met de `__init__` methode dat een hond een naam kan krijgen. \n",
    "* Maak een methode in de `class` waarmee de hond kan blaffen. "
   ]
  },
  {
   "cell_type": "code",
   "execution_count": 1,
   "id": "97ab3322-5bf2-4332-8233-bb4a86874933",
   "metadata": {},
   "outputs": [],
   "source": [
    "class Hond: \n",
    "    aantal_poten = 4 \n",
    "\n",
    "    def __init__(self, naam): \n",
    "        self.naam = naam \n",
    "\n",
    "    def blaf(self): \n",
    "        print(f\"{self.naam} blaft: 'woef!'\") "
   ]
  },
  {
   "cell_type": "code",
   "execution_count": 2,
   "id": "1ed7e1be-e4d3-47e2-82bb-e0077a304446",
   "metadata": {},
   "outputs": [
    {
     "name": "stdout",
     "output_type": "stream",
     "text": [
      "fifi heeft 4 kleine pootjes.\n"
     ]
    }
   ],
   "source": [
    "# Start de class Hond met gegeven argument fifi  \n",
    "fifi = Hond(\"fifi\")\n",
    "print(f\"{fifi.naam} heeft {fifi.aantal_poten} kleine pootjes.\") "
   ]
  },
  {
   "cell_type": "code",
   "execution_count": 3,
   "id": "7f8b0395-f1a9-4120-b5af-bcf61bca743e",
   "metadata": {},
   "outputs": [
    {
     "name": "stdout",
     "output_type": "stream",
     "text": [
      "fifi blaft: 'woef!'\n"
     ]
    }
   ],
   "source": [
    "fifi.blaf() "
   ]
  },
  {
   "cell_type": "code",
   "execution_count": null,
   "id": "f3a71603-c515-4811-8c6d-43485431ba2a",
   "metadata": {},
   "outputs": [],
   "source": []
  }
 ],
 "metadata": {
  "kernelspec": {
   "display_name": "Python 3 (ipykernel)",
   "language": "python",
   "name": "python3"
  },
  "language_info": {
   "codemirror_mode": {
    "name": "ipython",
    "version": 3
   },
   "file_extension": ".py",
   "mimetype": "text/x-python",
   "name": "python",
   "nbconvert_exporter": "python",
   "pygments_lexer": "ipython3",
   "version": "3.9.5"
  }
 },
 "nbformat": 4,
 "nbformat_minor": 5
}
