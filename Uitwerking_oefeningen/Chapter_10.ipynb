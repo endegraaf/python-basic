{
 "cells": [
  {
   "cell_type": "markdown",
   "id": "98c7f8be-c527-46ca-b138-b073aff5b8d2",
   "metadata": {},
   "source": [
    "# Uitwerking oefeningen Chapter 10 Exception handling"
   ]
  },
  {
   "cell_type": "markdown",
   "id": "d5e6d827-944f-476f-b580-6cf7a83d35a6",
   "metadata": {},
   "source": [
    "Maak een try-except met een `assert` statement die een error geeft.  \n",
    "Laat de `assert` falen en vang de error op.  \n",
    "print deze error uit in het `finally` blok van de try-except."
   ]
  },
  {
   "cell_type": "code",
   "execution_count": 1,
   "id": "6563c86a-ffef-4b8f-8ffd-f4d8454db4fd",
   "metadata": {},
   "outputs": [
    {
     "name": "stdout",
     "output_type": "stream",
     "text": [
      "vang deze error op\n"
     ]
    }
   ],
   "source": [
    "error_text = ''\n",
    "try:\n",
    "    assert False, 'vang deze error op'\n",
    "except AssertionError as err:\n",
    "    error_text = err\n",
    "finally:\n",
    "    print(error_text)"
   ]
  },
  {
   "cell_type": "code",
   "execution_count": null,
   "id": "82a62f2d-e59c-40c0-9a61-2a395edce689",
   "metadata": {},
   "outputs": [],
   "source": []
  }
 ],
 "metadata": {
  "kernelspec": {
   "display_name": "Python 3 (ipykernel)",
   "language": "python",
   "name": "python3"
  },
  "language_info": {
   "codemirror_mode": {
    "name": "ipython",
    "version": 3
   },
   "file_extension": ".py",
   "mimetype": "text/x-python",
   "name": "python",
   "nbconvert_exporter": "python",
   "pygments_lexer": "ipython3",
   "version": "3.9.5"
  }
 },
 "nbformat": 4,
 "nbformat_minor": 5
}
