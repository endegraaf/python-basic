{
 "cells": [
  {
   "cell_type": "markdown",
   "id": "d1e23bda-ea57-428f-b0a4-1b88d2b6ce89",
   "metadata": {},
   "source": [
    "# Uitwerking oefeningen Chapter 9 Loops"
   ]
  },
  {
   "cell_type": "markdown",
   "id": "7fa139e8-d1c7-4800-a299-faabb9959068",
   "metadata": {
    "pycharm": {
     "name": "#%% md\n"
    }
   },
   "source": [
    "### Oefeningen Loops\n",
    "\n",
    "Opdracht 1:  \n",
    "Loop met een for-loop over het alphabet en break de loop zodra de letter `'m'` voorbij komt.  "
   ]
  },
  {
   "cell_type": "code",
   "execution_count": 3,
   "id": "3742f148-22f6-42f3-8582-2a6a45d12626",
   "metadata": {},
   "outputs": [
    {
     "name": "stdout",
     "output_type": "stream",
     "text": [
      "a\n",
      "b\n",
      "c\n",
      "d\n",
      "e\n",
      "f\n",
      "g\n",
      "h\n",
      "i\n",
      "j\n",
      "k\n",
      "l\n"
     ]
    }
   ],
   "source": [
    "alphabet = [\n",
    "    'a', 'b', 'c', 'd', 'e', 'f', 'g', 'h', 'i', 'j', 'k', 'l', 'm',\n",
    "    'n', 'o', 'p', 'q', 'r', 's', 't', 'u', 'v', 'w', 'x', 'y', 'z'\n",
    "]\n",
    "for letter in alphabet:\n",
    "    if letter.lower() == 'm':\n",
    "        break\n",
    "    print(letter)"
   ]
  },
  {
   "cell_type": "markdown",
   "id": "ba2c95d5-1927-4ad4-a185-edf5790ecd79",
   "metadata": {
    "pycharm": {
     "name": "#%% md\n"
    }
   },
   "source": [
    "Opdracht 2:  \n",
    "Maak een alphabet van `'a'` tot `'z'` en maak een loop dat de waardes van `'z'` naar `'a'` uitprint.    "
   ]
  },
  {
   "cell_type": "code",
   "execution_count": 6,
   "id": "89e7453e-31a4-4020-bf34-8c367fc23710",
   "metadata": {},
   "outputs": [
    {
     "name": "stdout",
     "output_type": "stream",
     "text": [
      "z\n",
      "y\n",
      "x\n",
      "w\n",
      "v\n",
      "u\n",
      "t\n",
      "s\n",
      "r\n",
      "q\n",
      "p\n",
      "o\n",
      "n\n",
      "m\n",
      "l\n",
      "k\n",
      "j\n",
      "i\n",
      "h\n",
      "g\n",
      "f\n",
      "e\n",
      "d\n",
      "c\n",
      "b\n",
      "a\n"
     ]
    }
   ],
   "source": [
    "alphabet = 'abcdefghijklmnopqrstuvwxyz'\n",
    "for letter in reversed(alphabet):\n",
    "    print(letter)"
   ]
  },
  {
   "cell_type": "markdown",
   "id": "45975355-b68e-46c7-b559-b27f634a4db2",
   "metadata": {
    "pycharm": {
     "name": "#%% md\n"
    }
   },
   "source": [
    "Opdracht 3:\n",
    "Wat is de waarde van `nummer` na deze for-loop?\n",
    "\n",
    "```\n",
    "nummer = 11\n",
    "for nummer in range(10):\n",
    "    if nummer < 5:\n",
    "        continue\n",
    "        \n",
    "# wat is nummer nu?\n",
    "```"
   ]
  },
  {
   "cell_type": "code",
   "execution_count": 1,
   "id": "626261c7-2af9-4314-bffd-440787bed239",
   "metadata": {},
   "outputs": [
    {
     "name": "stdout",
     "output_type": "stream",
     "text": [
      "9\n"
     ]
    }
   ],
   "source": [
    "nummer = 11\n",
    "for nummer in range(10):\n",
    "    if nummer < 5:\n",
    "        continue\n",
    "        \n",
    "# wat is nummer nu?\n",
    "# antwoord 9, en niet 10 of 11\n",
    "#   `nummer = 11` wordt overschreven door de `nummer` in de for-loop\n",
    "#   `range` maakt een `range` met 10 cijfers startend bij 0\n",
    "print(nummer)"
   ]
  },
  {
   "cell_type": "code",
   "execution_count": null,
   "id": "f787d9f6-ce17-4037-8d9f-bfe23d637a0b",
   "metadata": {},
   "outputs": [],
   "source": []
  }
 ],
 "metadata": {
  "kernelspec": {
   "display_name": "Python 3 (ipykernel)",
   "language": "python",
   "name": "python3"
  },
  "language_info": {
   "codemirror_mode": {
    "name": "ipython",
    "version": 3
   },
   "file_extension": ".py",
   "mimetype": "text/x-python",
   "name": "python",
   "nbconvert_exporter": "python",
   "pygments_lexer": "ipython3",
   "version": "3.9.5"
  }
 },
 "nbformat": 4,
 "nbformat_minor": 5
}
