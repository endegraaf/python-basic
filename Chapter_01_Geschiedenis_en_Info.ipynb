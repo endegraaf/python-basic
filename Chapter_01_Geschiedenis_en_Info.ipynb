{
 "cells": [
  {
   "cell_type": "markdown",
   "id": "1b18d9cb",
   "metadata": {},
   "source": [
    "# Geschiedenis en informatie"
   ]
  },
  {
   "cell_type": "markdown",
   "id": "dd68bf6c",
   "metadata": {},
   "source": [
    "* [1991]   \n",
    "Python is in 1991 ontworpen en wordt nog steeds ontwikkeld.  \n",
    "\n",
    "* [Guido van Rossum](https://nl.wikipedia.org/wiki/Guido_van_Rossum)  \n",
    "Guido is de bedenker van Python, zijn favoriete televisieprogramma is Monty Python's Flying Circus.  \n",
    "Vandaar de naam Python.  \n",
    "  \n",
    "* [C/C++](https://docs.python.org/3/extending/index.html)  \n",
    "Python is een taal gebouwd op [C]. \n",
    "C en [C++](https://nl.wikipedia.org/wiki/C%2B%2B) zijn gecompileerde talen die efficienter en sneller zijn in het berekenen van grote sommen of formules.  \n",
    "In die talen kan code geschreven worden die Python kan gebruiken.  \n",
    "Veel Python modules gebruiken deze functionaliteit om code die al geschreven is te gebruiken in Python of berekeningen sneller te maken.  \n",
    "  \n",
    "* [IDLE](https://docs.python.org/3/library/idle.html) / Python console  \n",
    "IDLE is Python’s Integrated Development and Learning Environment.  \n",
    "Deze IDE is volledig gemaakt in Python en gebruikt [Tk] voor de GUI.  \n",
    "  \n",
    "* [Jupyter Notebook](https://jupyter.org/)  \n",
    "Een interactive programeer omgeving ontworpen in [2014](https://en.wikipedia.org/wiki/Project_Jupyter).  \n",
    "Jupyter Notebooks worden vaak gebruikt door wetenschappers.  \n",
    "  \n",
    "* Indentations & [PEP8](https://www.python.org/dev/peps/pep-0008/)  \n",
    "Python kent geen acolades om blokken code van elkaar te onderscheiden, Python gebruikt hiervoor indentaties.  \n",
    "Python doet er alles aan om leesbaarheid van de code te waarborgen.  \n",
    "Daarom is er een [_Style Guide for Python Code_](https://www.python.org/dev/peps/pep-0008/ \"PEP-8\") gemaakt.  \n",
    "\n",
    "\n",
    "[1991]: https://nl.wikipedia.org/wiki/Python_(programmeertaal) \n",
    "[C]: https://nl.wikipedia.org/wiki/C_(programmeertaal)\n",
    "[Tk]: https://en.wikipedia.org/wiki/Tk_(software)"
   ]
  },
  {
   "cell_type": "markdown",
   "id": "e8a2bf4f",
   "metadata": {},
   "source": [
    "## De IDE\n",
    "[`Integrated development environment`](https://nl.wikipedia.org/wiki/Integrated_development_environment)  \n",
    "Een programma die de softwareontwikkelaar ondersteunt.  "
   ]
  },
  {
   "cell_type": "markdown",
   "id": "bff6175c",
   "metadata": {},
   "source": [
    "### Jupyter Lab\n",
    "Dit bestand is een `.ipynb` (IPythonNoteBook) bestand.  \n",
    "Het is gemaakt met de Python tool: Jupyter Lab.  \n",
    "\n",
    "Jupyter Lab is een IDE waar meerdere programeertalen in ontwikkeld kan worden.  \n",
    "Vooral de [data/science] engineers gebruiken het graag.  \n",
    "De combi van rijke documentatie en code spreekt hen erg aan.  \n",
    "\n",
    "Het is ook een goede tool om Python code uit te leggen doordat uitkomst van de code komt onder de cel te staan.  \n",
    "\n",
    "Het is af te raden om in Python te leren coderen met Jupyter Lab.  \n",
    "Jupyter Lab `.ipynb` scripts zijn geen normale Python scripts.  \n",
    "In Jupyter Lab kan de cellen in een niet logische volgorde gestart worden.  \n",
    "Dit veroorzaakt onverwachte situaties en onnodige errors.  \n",
    "\n",
    "[data/science]: https://nl.wikipedia.org/wiki/Datawetenschap"
   ]
  },
  {
   "cell_type": "markdown",
   "id": "6f3a8430-2740-47b0-959d-46908f6d4dd6",
   "metadata": {},
   "source": [
    "#### Wat wel te gebruiken om Python te leren\n",
    "[Pycharm] is aan te raden voor beginnende Python programmeurs voor de volgende redenen:  \n",
    "* Goede [code completion]\n",
    "* Automatisch een [virtual environment] voor elk project\n",
    "* [pip] packages GUI\n",
    "* Redelijke [style guide] hints\n",
    "* Veel [plugins]\n",
    "* Ingebouwde [versie control]\n",
    "\n",
    "[Pycharm]: https://www.jetbrains.com/pycharm/download/\n",
    "[code completion]: https://www.jetbrains.com/help/pycharm/auto-completing-code.html\n",
    "[code inspection]: https://www.jetbrains.com/help/pycharm/code-inspection.html\n",
    "[virtual environment]: https://www.jetbrains.com/help/pycharm/creating-virtual-environment.html\n",
    "[pip]: https://www.jetbrains.com/help/pycharm/installing-uninstalling-and-upgrading-packages.html#interpreter-settings\n",
    "[style guide]: https://www.jetbrains.com/help/pycharm/quick-start-guide.html#code-style\n",
    "[plugins]: https://www.jetbrains.com/help/pycharm/managing-plugins.html\n",
    "[versie control]: https://www.jetbrains.com/help/pycharm/version-control-integration.html"
   ]
  },
  {
   "cell_type": "markdown",
   "id": "05f37e8e",
   "metadata": {
    "pycharm": {
     "name": "#%% md\n"
    }
   },
   "source": [
    "### Een andere ontwikkel omgeving\n",
    "Het is ook mogenlijk om een andere ontwikkel omgeving te gebruiken om Python in te programeren.  \n",
    "Deze IDE's hebben goede code voorspelling waardoor het coderen eenvoudiger wordt.  \n",
    "\n",
    "Een paar goede opties:\n",
    "* [Visual Code](https://code.visualstudio.com/Download)\n",
    "* [Spyder](https://www.spyder-ide.org/)\n",
    "* [Thonny](https://thonny.org/)\n"
   ]
  },
  {
   "cell_type": "code",
   "execution_count": null,
   "id": "38511577-b17c-4874-9ef8-5580bc077635",
   "metadata": {},
   "outputs": [],
   "source": []
  }
 ],
 "metadata": {
  "kernelspec": {
   "display_name": "Python 3 (ipykernel)",
   "language": "python",
   "name": "python3"
  },
  "language_info": {
   "codemirror_mode": {
    "name": "ipython",
    "version": 3
   },
   "file_extension": ".py",
   "mimetype": "text/x-python",
   "name": "python",
   "nbconvert_exporter": "python",
   "pygments_lexer": "ipython3",
   "version": "3.10.2"
  }
 },
 "nbformat": 4,
 "nbformat_minor": 5
}
