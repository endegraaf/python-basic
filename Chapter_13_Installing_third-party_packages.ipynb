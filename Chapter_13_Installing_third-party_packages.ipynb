{
 "cells": [
  {
   "cell_type": "markdown",
   "metadata": {
    "pycharm": {
     "name": "#%% md\n"
    }
   },
   "source": [
    "# Installing third-party packages\n",
    "`PyPI`  Python Package Index  \n",
    "`pip`  package installer for Python  \n",
    "`venv`  virtual environment  \n"
   ]
  },
  {
   "cell_type": "markdown",
   "metadata": {},
   "source": [
    "## [PyPI](https://pypi.org/)\n",
    "PyPI staat voor: Python Package Index.  \n",
    "PyPI is een platform waar software ontwikkelaars hun open-source Python package kunnen aanbieden.   \n",
    "Hier zijn alle Python pakketten op te vinden waaronder ook: [Selenium](https://pypi.org/project/selenium/)  \n",
    "\n",
    "Alle pakketten op PyPI kan met `pip` geinstalleerd worden. \n"
   ]
  },
  {
   "cell_type": "markdown",
   "metadata": {},
   "source": [
    "## [pip](https://docs.python.org/3/tutorial/venv.html?#managing-packages-with-pip)\n",
    "Pip staat voor: Package Installer for Python \n",
    "\n",
    "\n",
    "`pip` is het commandline programma waarmee de Python pakketten van PyPI gedownload en geinstaleerd worden.  \n",
    "De dependencies (andere pakketten die benodigd zijn) worden ook mee gedownload en geinstaleerd.  \n",
    "Bijvoorbeeld bij selenium wordt urllib3 ook geinstaleerd.  \n",
    "\n",
    "`pip` wordt mee geinstaleerd met Python. \n",
    "\n",
    "Voorbeeld met PowerShell: \n",
    "\n",
    "`C:\\Users\\username> pip --help`"
   ]
  },
  {
   "cell_type": "code",
   "execution_count": 4,
   "metadata": {
    "collapsed": false,
    "jupyter": {
     "outputs_hidden": false
    },
    "pycharm": {
     "name": "#%%\n"
    }
   },
   "outputs": [
    {
     "name": "stdout",
     "output_type": "stream",
     "text": [
      "\n",
      "Usage:   \n",
      "  pip <command> [options]\n",
      "\n",
      "Commands:\n",
      "  install                     Install packages.\n",
      "  download                    Download packages.\n",
      "  uninstall                   Uninstall packages.\n",
      "  freeze                      Output installed packages in requirements format.\n",
      "  list                        List installed packages.\n",
      "  show                        Show information about installed packages.\n",
      "  check                       Verify installed packages have compatible dependencies.\n",
      "  config                      Manage local and global configuration.\n",
      "  search                      Search PyPI for packages.\n",
      "  cache                       Inspect and manage pip's wheel cache.\n",
      "  wheel                       Build wheels from your requirements.\n",
      "  hash                        Compute hashes of package archives.\n",
      "  completion                  A helper command used for command completion.\n",
      "  debug                       Show information useful for debugging.\n",
      "  help                        Show help for commands.\n",
      "\n",
      "General Options:\n",
      "  -h, --help                  Show help.\n",
      "  --isolated                  Run pip in an isolated mode, ignoring\n",
      "                              environment variables and user configuration.\n",
      "  -v, --verbose               Give more output. Option is additive, and can be\n",
      "                              used up to 3 times.\n",
      "  -V, --version               Show version and exit.\n",
      "  -q, --quiet                 Give less output. Option is additive, and can be\n",
      "                              used up to 3 times (corresponding to WARNING,\n",
      "                              ERROR, and CRITICAL logging levels).\n",
      "  --log <path>                Path to a verbose appending log.\n",
      "  --no-input                  Disable prompting for input.\n",
      "  --proxy <proxy>             Specify a proxy in the form\n",
      "                              [user:passwd@]proxy.server:port.\n",
      "  --retries <retries>         Maximum number of retries each connection should\n",
      "                              attempt (default 5 times).\n",
      "  --timeout <sec>             Set the socket timeout (default 15 seconds).\n",
      "  --exists-action <action>    Default action when a path already exists:\n",
      "                              (s)witch, (i)gnore, (w)ipe, (b)ackup, (a)bort.\n",
      "  --trusted-host <hostname>   Mark this host or host:port pair as trusted,\n",
      "                              even though it does not have valid or any HTTPS.\n",
      "  --cert <path>               Path to PEM-encoded CA certificate bundle. If\n",
      "                              provided, overrides the default. See 'SSL\n",
      "                              Certificate Verification' in pip documentation\n",
      "                              for more information.\n",
      "  --client-cert <path>        Path to SSL client certificate, a single file\n",
      "                              containing the private key and the certificate\n",
      "                              in PEM format.\n",
      "  --cache-dir <dir>           Store the cache data in <dir>.\n",
      "  --no-cache-dir              Disable the cache.\n",
      "  --disable-pip-version-check\n",
      "                              Don't periodically check PyPI to determine\n",
      "                              whether a new version of pip is available for\n",
      "                              download. Implied with --no-index.\n",
      "  --no-color                  Suppress colored output.\n",
      "  --no-python-version-warning\n",
      "                              Silence deprecation warnings for upcoming\n",
      "                              unsupported Pythons.\n",
      "  --use-feature <feature>     Enable new functionality, that may be backward\n",
      "                              incompatible.\n",
      "  --use-deprecated <feature>  Enable deprecated functionality, that will be\n",
      "                              removed in the future.\n"
     ]
    }
   ],
   "source": [
    "!pip --help"
   ]
  },
  {
   "cell_type": "markdown",
   "metadata": {},
   "source": [
    "## [venv](https://docs.python.org/3/tutorial/venv.html?)\n",
    "`venv` is een Python module die, net als pip, op de commandline te bedienen is.  \n",
    "`venv` zorgt ervoor dat je project en je gedownloade pakketten niet de ander in de weg zit.  \n",
    "Stel, je project gebruikt Selenium 2.0 en een ander project gebruikt Selenium 3.0.  \n",
    "Er kan maar één Selenium geinstalleerd zijn op je computer en 3.0 breekt het project dat 2.0 gebruikt.  \n",
    "Hiervoor gebruik je dan een virtual environment.  \n",
    "\n",
    "Voorbeeld met PowerShell:  \n",
    "\n",
    "`C:\\Users\\username> python -m venv --help`"
   ]
  },
  {
   "cell_type": "code",
   "execution_count": 5,
   "metadata": {
    "collapsed": false,
    "jupyter": {
     "outputs_hidden": false
    },
    "pycharm": {
     "name": "#%%\n"
    }
   },
   "outputs": [
    {
     "name": "stdout",
     "output_type": "stream",
     "text": [
      "usage: venv [-h] [--system-site-packages] [--symlinks | --copies] [--clear]\n",
      "            [--upgrade] [--without-pip] [--prompt PROMPT] [--upgrade-deps]\n",
      "            ENV_DIR [ENV_DIR ...]\n",
      "\n",
      "Creates virtual Python environments in one or more target directories.\n",
      "\n",
      "positional arguments:\n",
      "  ENV_DIR               A directory to create the environment in.\n",
      "\n",
      "optional arguments:\n",
      "  -h, --help            show this help message and exit\n",
      "  --system-site-packages\n",
      "                        Give the virtual environment access to the system\n",
      "                        site-packages dir.\n",
      "  --symlinks            Try to use symlinks rather than copies, when symlinks\n",
      "                        are not the default for the platform.\n",
      "  --copies              Try to use copies rather than symlinks, even when\n",
      "                        symlinks are the default for the platform.\n",
      "  --clear               Delete the contents of the environment directory if it\n",
      "                        already exists, before environment creation.\n",
      "  --upgrade             Upgrade the environment directory to use this version\n",
      "                        of Python, assuming Python has been upgraded in-place.\n",
      "  --without-pip         Skips installing or upgrading pip in the virtual\n",
      "                        environment (pip is bootstrapped by default)\n",
      "  --prompt PROMPT       Provides an alternative prompt prefix for this\n",
      "                        environment.\n",
      "  --upgrade-deps        Upgrade core dependencies: pip setuptools to the\n",
      "                        latest version in PyPI\n",
      "\n",
      "Once an environment has been created, you may wish to activate it, e.g. by\n",
      "sourcing an activate script in its bin directory.\n"
     ]
    }
   ],
   "source": [
    "!python -m venv --help"
   ]
  },
  {
   "cell_type": "markdown",
   "metadata": {
    "pycharm": {
     "name": "#%% md\n"
    }
   },
   "source": [
    "Hieronder een voorbeeld van de commandline waar de commandos hetvolgende doen:  \n",
    "\n",
    "* Maak een virtual environment folder aan met de naam `venv_folder` in de `Desktop` folder.  \n",
    "* Navigeer naar de folder waar het `activate` script in te vinden is.  \n",
    "* Draai het `activate` script.  \n",
    "* Instaleer selenium met `pip`.    "
   ]
  },
  {
   "cell_type": "markdown",
   "metadata": {
    "pycharm": {
     "name": "#%% md\n"
    }
   },
   "source": [
    "```\n",
    "C:\\Users\\username\\Desktop> python -m venv venv_folder \n",
    "C:\\Users\\username\\Desktop> cd .\\venv_folder\\Scripts\\ \n",
    "C:\\Users\\username\\Desktop\\venv_folder\\Scripts> .\\Activate.ps1 \n",
    "(venv_folder) PS C:\\Users\\username\\Desktop\\venv_folder\\Scripts> pip install selenium \n",
    "Collecting selenium \n",
    "... \n",
    "```"
   ]
  },
  {
   "cell_type": "markdown",
   "metadata": {
    "pycharm": {
     "name": "#%% md\n"
    }
   },
   "source": [
    "Nu is een kopie van de Python interpreter in de `venv_folder` geplaatst.  \n",
    "De `activate` script voegt tijdelijk een locatie toe aan [PATH].  \n",
    "Hierdoor verwijst het command `python` naar de interpreter in de `venv_folder`.  \n",
    "Ook is er een [alias] gemaakt met de naam `deactivate`.  \n",
    "Het `deactivate` commando deactiveerd het geactiveerde virtual environment.  \n",
    "\n",
    "[PATH]: https://en.wikipedia.org/wiki/PATH_(variable)\n",
    "[alias]: https://en.wikipedia.org/wiki/Alias_(command)"
   ]
  },
  {
   "cell_type": "markdown",
   "metadata": {},
   "source": [
    "## Third-party package managers\n",
    "\n",
    "De third-party package managers hebben wat voordelen over pip.  \n",
    "Maar de overeenkomsten zijn groot.  \n",
    "\n",
    "* [pipenv](https://github.com/pypa/pipenv)  \n",
    "pipenv heeft een .lock file waarbij requirements stricter kan worden opgesteld.  \n",
    "Dit is vooral handig als Python in combinatie met andere talen gebruikt wordt.  \n",
    "* [poetry](https://python-poetry.org/)  \n",
    "Met poetry is het erg gemakkelijk om pypi-packages aan te maken  \n",
    "* [anaconda](https://www.anaconda.com/products/individual)  \n",
    "De scientific en data georiënteerde software ontwikkelaars gebruiken deze package manager het meest.  \n",
    "Als anaconda wordt geïnstalleerd dan worden er ook veel andere basispakketen geinstalleerd zoals: JupiterLab, numpy, pandas, etc.  \n"
   ]
  },
  {
   "cell_type": "markdown",
   "metadata": {},
   "source": [
    "### Oefeningen Installing third-party packages\n"
   ]
  },
  {
   "cell_type": "markdown",
   "metadata": {},
   "source": [
    "* Maak een nieuw Python virtual environment aan.  \n",
    "* Activeer de virtual environment.  \n",
    "* Upgrade [`pip`][pip] zodat `pip` de laatste versie heeft.  \n",
    "* Installeer met [`pip`][pip_install] de package [`selenium`](https://pypi.org/project/selenium/).  \n",
    "* Start een Python shell (commando `python` in de commandline).   \n",
    "* Importeer selenium.  \n",
    "\n",
    "[pip]: https://pip.pypa.io/en/stable/installing/#upgrading-pip\n",
    "[pip_install]: https://pip.pypa.io/en/stable/cli/pip_install/#pip-install"
   ]
  },
  {
   "cell_type": "code",
   "execution_count": null,
   "metadata": {},
   "outputs": [],
   "source": []
  }
 ],
 "metadata": {
  "kernelspec": {
   "display_name": "Python 3 (ipykernel)",
   "language": "python",
   "name": "python3"
  },
  "language_info": {
   "codemirror_mode": {
    "name": "ipython",
    "version": 3
   },
   "file_extension": ".py",
   "mimetype": "text/x-python",
   "name": "python",
   "nbconvert_exporter": "python",
   "pygments_lexer": "ipython3",
   "version": "3.10.2"
  }
 },
 "nbformat": 4,
 "nbformat_minor": 4
}
