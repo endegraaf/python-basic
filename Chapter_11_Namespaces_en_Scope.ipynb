{
 "cells": [
  {
   "cell_type": "markdown",
   "metadata": {
    "pycharm": {
     "name": "#%% md\n"
    }
   },
   "source": [
    "# Namespaces en Scope\n"
   ]
  },
  {
   "cell_type": "markdown",
   "metadata": {
    "pycharm": {
     "name": "#%% md\n"
    }
   },
   "source": [
    "Python heeft scopes. Scopes zijn verschillende niveas van code.  \n",
    "Er zijn een paar scopes en die hebben de volgende namen:  \n",
    "built-in, global en local.  \n",
    "\n",
    "built-in objecten zijn altijd en overal beschikbaar.  \n",
    "global objecten zijn in het script aangemaakt en kunnen built-in objecten gebruiken.  \n",
    "local objecten kunnen built-in en global objecten gebruiken.  \n",
    "\n",
    "De scopes built-in en global kunnen de objecten in local niet gebruiken of inzien.  \n",
    "\n",
    "Hieronder een voorbeeld dat de local scope de objecten van de built-in en global scope kan gebruiken.  "
   ]
  },
  {
   "cell_type": "code",
   "execution_count": 1,
   "metadata": {
    "collapsed": false,
    "jupyter": {
     "outputs_hidden": false
    },
    "pycharm": {
     "name": "#%%\n"
    }
   },
   "outputs": [
    {
     "name": "stdout",
     "output_type": "stream",
     "text": [
      "ik sta binnen (local) en de auto buiten is rood\n",
      "de auto buiten is rood\n"
     ]
    }
   ],
   "source": [
    "global_object = \"de auto buiten is rood\" \n",
    "\n",
    "def binnen_in_huis():\n",
    "    # local een nieuw object aangemaakt \n",
    "    # dit local object gebruikt de waarde van een global object \n",
    "    local_object = f\"ik sta binnen (local) en {global_object}\" \n",
    "    # print is een built-in object \n",
    "    print(local_object) \n",
    "\n",
    "# roep (global) functie binnen_in_huis  \n",
    "binnen_in_huis() \n",
    "# print het global object \n",
    "print(global_object) "
   ]
  },
  {
   "cell_type": "code",
   "execution_count": 2,
   "metadata": {
    "collapsed": false,
    "jupyter": {
     "outputs_hidden": false
    },
    "pycharm": {
     "name": "#%%\n"
    }
   },
   "outputs": [],
   "source": [
    "# local_object is niet aanwezig in de namespace van de global scope \n",
    "# Python geeft daarom een NameError \n",
    "# print(local_object)  # uncomment deze lijn voor de error "
   ]
  },
  {
   "cell_type": "markdown",
   "metadata": {
    "pycharm": {
     "name": "#%% md\n"
    }
   },
   "source": [
    "De local scope kan de global objecten negeren en de naam van het object hergebruiken.  \n",
    "Dit betekend niet dat het global object is aangetast door de local scope.   \n",
    "\n",
    "Voorbeeld: "
   ]
  },
  {
   "cell_type": "code",
   "execution_count": 5,
   "metadata": {
    "collapsed": false,
    "jupyter": {
     "outputs_hidden": false
    },
    "pycharm": {
     "name": "#%%\n"
    }
   },
   "outputs": [
    {
     "name": "stdout",
     "output_type": "stream",
     "text": [
      "mijn auto binnen is groen\n",
      "de auto buiten is rood\n"
     ]
    }
   ],
   "source": [
    "global_object = \"de auto buiten is rood\" \n",
    "\n",
    "def in_mijn_garage(): \n",
    "    # local een nieuw object aangemaakt \n",
    "    # het volgende local object overschrijft de verwijzing naar het global object \n",
    "    global_object = \"mijn auto binnen is groen\" \n",
    "    print(global_object) \n",
    "\n",
    "# roep (global) functie in_mijn_garage aan \n",
    "in_mijn_garage() \n",
    "# print het global object \n",
    "# dit is niet aangepast toen het local is overschreven \n",
    "print(global_object)"
   ]
  },
  {
   "cell_type": "markdown",
   "metadata": {
    "pycharm": {
     "name": "#%% md\n"
    }
   },
   "source": [
    "Het `global` statement kan global objecten binnen laten tot de local scope   \n",
    "Dan kan het global object local worden aangepast.   \n",
    "Dit heeft het resultaat dat hierna het global object een andere waarde heeft gekregen.   \n",
    "\n",
    "Voorbeeld:  "
   ]
  },
  {
   "cell_type": "code",
   "execution_count": null,
   "metadata": {
    "collapsed": false,
    "jupyter": {
     "outputs_hidden": false
    },
    "pycharm": {
     "name": "#%%\n"
    }
   },
   "outputs": [],
   "source": [
    "global_object = \"de auto buiten is rood\" \n",
    "\n",
    "def de_automonteur(): \n",
    "    # Het global statement haalt een global object naar de local scope \n",
    "    global global_object \n",
    "    global_object = \"de auto is door de automonteur binnen (local) aangepast\" \n",
    "\n",
    "# roep (global) functie de_automonteur aan \n",
    "de_automonteur() \n",
    "# print het global object. dit is local aangepast \n",
    "print(global_object)"
   ]
  },
  {
   "cell_type": "markdown",
   "metadata": {
    "jupyter": {
     "outputs_hidden": false
    },
    "pycharm": {
     "name": "#%%\n"
    }
   },
   "source": [
    "### Oefeningen Namespaces en Scope"
   ]
  },
  {
   "cell_type": "markdown",
   "metadata": {},
   "source": [
    "onderzoek of een `try`-`except` statement een scope bevat. "
   ]
  },
  {
   "cell_type": "code",
   "execution_count": null,
   "metadata": {},
   "outputs": [],
   "source": []
  },
  {
   "cell_type": "markdown",
   "metadata": {},
   "source": [
    "onderzoek of een `for`-loop een eigen scope heeft. "
   ]
  },
  {
   "cell_type": "code",
   "execution_count": null,
   "metadata": {},
   "outputs": [],
   "source": []
  },
  {
   "cell_type": "markdown",
   "metadata": {},
   "source": [
    "onderzoek of een `if`-`else` statement een eigen scope heeft. "
   ]
  },
  {
   "cell_type": "code",
   "execution_count": null,
   "metadata": {},
   "outputs": [],
   "source": []
  },
  {
   "cell_type": "markdown",
   "metadata": {},
   "source": [
    "Check of `global` te gebruiken is in de global scope "
   ]
  },
  {
   "cell_type": "code",
   "execution_count": null,
   "metadata": {},
   "outputs": [],
   "source": []
  }
 ],
 "metadata": {
  "kernelspec": {
   "display_name": "Python 3 (ipykernel)",
   "language": "python",
   "name": "python3"
  },
  "language_info": {
   "codemirror_mode": {
    "name": "ipython",
    "version": 3
   },
   "file_extension": ".py",
   "mimetype": "text/x-python",
   "name": "python",
   "nbconvert_exporter": "python",
   "pygments_lexer": "ipython3",
   "version": "3.9.6"
  }
 },
 "nbformat": 4,
 "nbformat_minor": 4
}
