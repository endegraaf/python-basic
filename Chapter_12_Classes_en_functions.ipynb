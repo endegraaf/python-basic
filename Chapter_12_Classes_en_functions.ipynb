{
 "cells": [
  {
   "cell_type": "markdown",
   "metadata": {
    "pycharm": {
     "name": "#%% md\n"
    }
   },
   "source": [
    "# Classes en functions\n",
    "`def` de keyword waarmee een functie wordt aangemaakt.  \n",
    "`class` de keyword waarmee een class wordt gecreeerd.  "
   ]
  },
  {
   "cell_type": "markdown",
   "metadata": {},
   "source": [
    "## def\n",
    "`def` is een statement waarmee een functie wordt aangemaakt.  \n",
    "Een functie is een blokje code wat een set instructies en logica bevat.  \n",
    "Dit kan meerdere keren in een stuk code gebruikt kan worden.  \n",
    "print is ook een functie.  \n",
    "\n",
    " "
   ]
  },
  {
   "cell_type": "code",
   "execution_count": 2,
   "metadata": {
    "collapsed": false,
    "jupyter": {
     "outputs_hidden": false
    },
    "pycharm": {
     "name": "#%%\n"
    }
   },
   "outputs": [
    {
     "name": "stdout",
     "output_type": "stream",
     "text": [
      "print in een functie\n"
     ]
    }
   ],
   "source": [
    "def dit_is_een_functie(): \n",
    "    print('print in een functie') \n",
    "\n",
    "# `call` de functie\n",
    "dit_is_een_functie()"
   ]
  },
  {
   "cell_type": "markdown",
   "metadata": {
    "pycharm": {
     "name": "#%% md\n"
    }
   },
   "source": [
    " \n",
    "Functies kunnen ook (meerdere) argumenten ontvangen.  \n",
    "De argumenten kunnen ook een default waarde hebben.  \n",
    "\n",
    "Hierinder een functie die de `assert` statement representeerd.  \n",
    "De functie met de naam `assertion` verwacht 2 argumenten.  \n",
    "`expression` is een argument en argument `err_msg` heeft een default waarde.   \n"
   ]
  },
  {
   "cell_type": "code",
   "execution_count": 1,
   "metadata": {
    "collapsed": false,
    "jupyter": {
     "outputs_hidden": false
    },
    "pycharm": {
     "name": "#%%\n"
    }
   },
   "outputs": [],
   "source": [
    "def assertion(expression, err_msg=\"\"): \n",
    "    if __debug__: \n",
    "        if not expression: \n",
    "            raise AssertionError(err_msg) "
   ]
  },
  {
   "cell_type": "markdown",
   "metadata": {},
   "source": [
    "## return\n",
    "\n",
    "`return` is een statement die gebruikt wordt in een functie.  \n",
    "`return` geeft aan welk object de functie terug geeft.  \n",
    "Als er geen `return` in een functie aanwezig is dan geeft de functie `None` terug.  \n",
    "Het is _good practice_ als een functie een enkel type object terug geeft.  "
   ]
  },
  {
   "cell_type": "code",
   "execution_count": 4,
   "metadata": {
    "collapsed": false,
    "jupyter": {
     "outputs_hidden": false
    },
    "pycharm": {
     "name": "#%%\n"
    }
   },
   "outputs": [],
   "source": [
    "def is_het_weekend(dag): \n",
    "    \"\"\" functie die checkt of de gegeven dag in het weekend ligt \"\"\" \n",
    "    doordeweeks = { \n",
    "        \"maandag\", \"dinsdag\", \"woensdag\", \"donderdag\", \"vrijdag\" \n",
    "    } \n",
    "    weekend = {\"zaterdag\", \"zondag\"} \n",
    "    sdag = str(dag).strip().lower() \n",
    "    \n",
    "    if sdag in doordeweeks: \n",
    "        # return een bool waarde \n",
    "        return False \n",
    "    elif sdag in weekend: \n",
    "        # return een bool waarde \n",
    "        return True \n",
    "    else: \n",
    "        # geef een error \n",
    "        raise ValueError(f\"gegeven dag ongeldig: {dag!r}\") "
   ]
  },
  {
   "cell_type": "code",
   "execution_count": 6,
   "metadata": {
    "collapsed": false,
    "jupyter": {
     "outputs_hidden": false
    },
    "pycharm": {
     "name": "#%%\n"
    }
   },
   "outputs": [
    {
     "data": {
      "text/plain": [
       "False"
      ]
     },
     "execution_count": 6,
     "metadata": {},
     "output_type": "execute_result"
    }
   ],
   "source": [
    "is_het_weekend('Woensdag')"
   ]
  },
  {
   "cell_type": "code",
   "execution_count": 8,
   "metadata": {
    "collapsed": false,
    "jupyter": {
     "outputs_hidden": false
    },
    "pycharm": {
     "name": "#%%\n"
    }
   },
   "outputs": [
    {
     "data": {
      "text/plain": [
       "True"
      ]
     },
     "execution_count": 8,
     "metadata": {},
     "output_type": "execute_result"
    }
   ],
   "source": [
    "is_het_weekend('zaterdag')"
   ]
  },
  {
   "cell_type": "code",
   "execution_count": 7,
   "metadata": {
    "collapsed": false,
    "jupyter": {
     "outputs_hidden": false
    },
    "pycharm": {
     "name": "#%%\n"
    }
   },
   "outputs": [
    {
     "ename": "ValueError",
     "evalue": "gegeven dag ongeldig: 'gehaktdag'",
     "output_type": "error",
     "traceback": [
      "\u001b[0;31m---------------------------------------------------------------------------\u001b[0m",
      "\u001b[0;31mValueError\u001b[0m                                Traceback (most recent call last)",
      "\u001b[0;32m/tmp/ipykernel_3819558/2449577980.py\u001b[0m in \u001b[0;36m<module>\u001b[0;34m\u001b[0m\n\u001b[0;32m----> 1\u001b[0;31m \u001b[0mis_het_weekend\u001b[0m\u001b[0;34m(\u001b[0m\u001b[0;34m'gehaktdag'\u001b[0m\u001b[0;34m)\u001b[0m\u001b[0;34m\u001b[0m\u001b[0;34m\u001b[0m\u001b[0m\n\u001b[0m\u001b[1;32m      2\u001b[0m \u001b[0;34m\u001b[0m\u001b[0m\n",
      "\u001b[0;32m/tmp/ipykernel_3819558/1283691434.py\u001b[0m in \u001b[0;36mis_het_weekend\u001b[0;34m(dag)\u001b[0m\n\u001b[1;32m     14\u001b[0m     \u001b[0;32melse\u001b[0m\u001b[0;34m:\u001b[0m\u001b[0;34m\u001b[0m\u001b[0;34m\u001b[0m\u001b[0m\n\u001b[1;32m     15\u001b[0m         \u001b[0;31m# geef een error\u001b[0m\u001b[0;34m\u001b[0m\u001b[0;34m\u001b[0m\u001b[0;34m\u001b[0m\u001b[0m\n\u001b[0;32m---> 16\u001b[0;31m         \u001b[0;32mraise\u001b[0m \u001b[0mValueError\u001b[0m\u001b[0;34m(\u001b[0m\u001b[0;34mf\"gegeven dag ongeldig: {dag!r}\"\u001b[0m\u001b[0;34m)\u001b[0m\u001b[0;34m\u001b[0m\u001b[0;34m\u001b[0m\u001b[0m\n\u001b[0m",
      "\u001b[0;31mValueError\u001b[0m: gegeven dag ongeldig: 'gehaktdag'"
     ]
    }
   ],
   "source": [
    "is_het_weekend('gehaktdag')"
   ]
  },
  {
   "cell_type": "markdown",
   "metadata": {},
   "source": [
    "## class\n",
    "\n",
    "`class` is een statement waarmee een `class` wordt aangemaakt.  \n",
    "Classes kunnen attributes, properties en methodes bevatten.  \n",
    "\n",
    "Geinitialiseerde classes hebben een eigen stukje geheugen.   \n",
    "Er kan dus meerdere van dezelfde class met andere waardes in een stuk code leven.  \n",
    "\n",
    "Classes zijn hun eigen type.  \n",
    "Veel van de `built-in` functions zijn achter de schermen een `class`.    \n",
    "Bijvoorbeeld: `int`, `map`, `range` zijn allemaal een `class`.  \n",
    "\n",
    "Een stukje uit de python console: \n",
    "```\n",
    ">>> help(bool)\n",
    "\n",
    "Help on class bool in module builtins:  \n",
    " \n",
    "class bool(int)  \n",
    " | bool(x) -> bool  \n",
    " |  \n",
    " | Returns True when the argument x is true, False otherwise.  \n",
    "...\n",
    "```\n",
    "\n",
    "Hieronder een voorbeeld van een class met een methode dat het memory adres uitprint. "
   ]
  },
  {
   "cell_type": "code",
   "execution_count": 15,
   "metadata": {
    "collapsed": false,
    "jupyter": {
     "outputs_hidden": false
    },
    "pycharm": {
     "name": "#%% \n"
    }
   },
   "outputs": [
    {
     "name": "stdout",
     "output_type": "stream",
     "text": [
      "deze class heeft de memory adres: 140372189672400\n",
      "deze class heeft de memory adres: 140372194910272\n"
     ]
    }
   ],
   "source": [
    "class EenClass: \n",
    "    def print_adres(self): \n",
    "        print(f\"deze class heeft de memory adres: {id(self)}\") \n",
    "\n",
    "# initializeer 2x de class EenClass \n",
    "een1 = EenClass() \n",
    "een2 = EenClass() \n",
    "\n",
    "# print het addres met de methode in de class \n",
    "een1.print_adres() \n",
    "een2.print_adres() "
   ]
  },
  {
   "cell_type": "markdown",
   "metadata": {
    "pycharm": {
     "name": "#%% md\n"
    }
   },
   "source": [
    "De methode in de class heeft een argument: self  \n",
    "self verwijst naar het memory-adres van de class.  \n",
    "De variable waaraan de class is geinitializeerd verwijst ook naar dat memory-adres.   \n",
    "\n",
    "In de class kan self ook gebruikt worden om onderdelen van de class op te vragen en/of aan te roepen.  \n",
    "Als de class is geinitialiseerd dan kan de attribute ook worden opgevraagd of aangepast.\n",
    "  \n",
    "Voorbeeld hieronder  "
   ]
  },
  {
   "cell_type": "code",
   "execution_count": 19,
   "metadata": {
    "collapsed": false,
    "jupyter": {
     "outputs_hidden": false
    },
    "pycharm": {
     "name": "#%% \n"
    }
   },
   "outputs": [
    {
     "name": "stdout",
     "output_type": "stream",
     "text": [
      "dit is een attribute\n"
     ]
    }
   ],
   "source": [
    "class VoorbeeldSelf: \n",
    "\n",
    "    een_attribute = \"dit is een attribute\"     \n",
    "    def get_attribute(self): \n",
    "        return self.een_attribute    \n",
    "\n",
    "    def print_attr(self, uppercase=False): \n",
    "        attr = self.get_attribute() \n",
    "        if uppercase: \n",
    "            # maak van attr allemaal hoofdletters \n",
    "            attr = str(attr).upper() \n",
    "        print(attr) \n",
    "\n",
    " \n",
    "# initializeer 2x de class VoorbeeldSelf \n",
    "voorbeeld1 = VoorbeeldSelf() \n",
    "voorbeeld2 = VoorbeeldSelf() \n",
    "\n",
    "# print de class attribute \n",
    "voorbeeld1.print_attr() "
   ]
  },
  {
   "cell_type": "code",
   "execution_count": 20,
   "metadata": {
    "collapsed": false,
    "jupyter": {
     "outputs_hidden": false
    },
    "pycharm": {
     "name": "#%%\n"
    }
   },
   "outputs": [
    {
     "name": "stdout",
     "output_type": "stream",
     "text": [
      "VAN BUITEN AANGEPAST\n"
     ]
    }
   ],
   "source": [
    "# variable voorbeeld2 kan gezien worden als de self in de class \n",
    "voorbeeld2.een_attribute = \"van buiten aangepast\" \n",
    "# print de class attribute \n",
    "voorbeeld2.print_attr(uppercase=True) "
   ]
  },
  {
   "cell_type": "markdown",
   "metadata": {
    "pycharm": {
     "name": "#%% md\n"
    }
   },
   "source": [
    "Het is mogenlijk om een class, zoals functies, parameters te geven.  \n",
    "Dit gebeurt met de speciale methode __init__  \n",
    "\n",
    "Voorbeeld:  "
   ]
  },
  {
   "cell_type": "code",
   "execution_count": 21,
   "metadata": {
    "collapsed": false,
    "jupyter": {
     "outputs_hidden": false
    },
    "pycharm": {
     "name": "#%%\n"
    }
   },
   "outputs": [
    {
     "name": "stdout",
     "output_type": "stream",
     "text": [
      "fill username input: Henk123\n",
      "fill password input: password1\n",
      "press submit button\n"
     ]
    }
   ],
   "source": [
    "class Login: \n",
    "    \"\"\" voorbeeld 'login' class \"\"\" \n",
    "    def __init__(self, username, password=\"Sup3rS3cret!\"): \n",
    "        self.username = username \n",
    "        self.password = password \n",
    "\n",
    "    def click_submit(self): \n",
    "        print(f\"press submit button\") \n",
    "\n",
    "    def do_login(self, press_submit=False): \n",
    "        print(f\"fill username input: {self.username}\") \n",
    "        print(f\"fill password input: {self.password}\") \n",
    "        if press_submit: \n",
    "            self.click_submit() \n",
    "\n",
    " \n",
    "login_page = Login(\"Henk123\", \"password1\") \n",
    "login_page.do_login(press_submit=True) "
   ]
  },
  {
   "cell_type": "markdown",
   "metadata": {},
   "source": [
    "### Oefeningen Classes en functions"
   ]
  },
  {
   "cell_type": "markdown",
   "metadata": {
    "jupyter": {
     "outputs_hidden": false
    },
    "pycharm": {
     "name": "#%%\n"
    }
   },
   "source": [
    "* Maak een `class` genaamd Hond. \n",
    "* Geef de `class` een attribute dat aangeeft hoeveel poten een hond heeft. \n",
    "* Zorg met de `__init__` methode dat een hond een naam kan krijgen. \n",
    "* Maak een methode in de `class` waarmee de hond kan blaffen. "
   ]
  },
  {
   "cell_type": "code",
   "execution_count": null,
   "metadata": {},
   "outputs": [],
   "source": []
  }
 ],
 "metadata": {
  "kernelspec": {
   "display_name": "Python 3 (ipykernel)",
   "language": "python",
   "name": "python3"
  },
  "language_info": {
   "codemirror_mode": {
    "name": "ipython",
    "version": 3
   },
   "file_extension": ".py",
   "mimetype": "text/x-python",
   "name": "python",
   "nbconvert_exporter": "python",
   "pygments_lexer": "ipython3",
   "version": "3.9.6"
  }
 },
 "nbformat": 4,
 "nbformat_minor": 4
}
